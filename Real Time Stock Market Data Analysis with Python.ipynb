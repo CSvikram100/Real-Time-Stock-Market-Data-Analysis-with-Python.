{
 "cells": [
  {
   "cell_type": "code",
   "execution_count": 1,
   "metadata": {},
   "outputs": [],
   "source": [
    "import pandas as pd"
   ]
  },
  {
   "cell_type": "code",
   "execution_count": 2,
   "metadata": {},
   "outputs": [
    {
     "name": "stdout",
     "output_type": "stream",
     "text": [
      "Requirement already satisfied: alpha_vantage in c:\\users\\user\\anaconda3\\lib\\site-packages (2.2.0)\n",
      "Requirement already satisfied: requests in c:\\users\\user\\anaconda3\\lib\\site-packages (from alpha_vantage) (2.24.0)\n",
      "Requirement already satisfied: aiohttp in c:\\users\\user\\anaconda3\\lib\\site-packages (from alpha_vantage) (3.6.2)\n",
      "Requirement already satisfied: certifi>=2017.4.17 in c:\\users\\user\\anaconda3\\lib\\site-packages (from requests->alpha_vantage) (2020.6.20)\n",
      "Requirement already satisfied: urllib3!=1.25.0,!=1.25.1,<1.26,>=1.21.1 in c:\\users\\user\\anaconda3\\lib\\site-packages (from requests->alpha_vantage) (1.25.9)\n",
      "Requirement already satisfied: idna<3,>=2.5 in c:\\users\\user\\anaconda3\\lib\\site-packages (from requests->alpha_vantage) (2.10)\n",
      "Requirement already satisfied: chardet<4,>=3.0.2 in c:\\users\\user\\anaconda3\\lib\\site-packages (from requests->alpha_vantage) (3.0.4)\n",
      "Requirement already satisfied: yarl<2.0,>=1.0 in c:\\users\\user\\anaconda3\\lib\\site-packages (from aiohttp->alpha_vantage) (1.5.1)\n",
      "Requirement already satisfied: async-timeout<4.0,>=3.0 in c:\\users\\user\\anaconda3\\lib\\site-packages (from aiohttp->alpha_vantage) (3.0.1)\n",
      "Requirement already satisfied: multidict<5.0,>=4.5 in c:\\users\\user\\anaconda3\\lib\\site-packages (from aiohttp->alpha_vantage) (4.7.6)\n",
      "Requirement already satisfied: attrs>=17.3.0 in c:\\users\\user\\anaconda3\\lib\\site-packages (from aiohttp->alpha_vantage) (19.3.0)\n"
     ]
    }
   ],
   "source": [
    "!pip3 install alpha_vantage"
   ]
  },
  {
   "cell_type": "code",
   "execution_count": 3,
   "metadata": {},
   "outputs": [],
   "source": [
    "from alpha_vantage.timeseries import TimeSeries"
   ]
  },
  {
   "cell_type": "code",
   "execution_count": 4,
   "metadata": {},
   "outputs": [],
   "source": [
    "import time"
   ]
  },
  {
   "cell_type": "code",
   "execution_count": 5,
   "metadata": {},
   "outputs": [],
   "source": [
    "api_key = 'ZIQYL8ALXY3ASTYM'"
   ]
  },
  {
   "cell_type": "code",
   "execution_count": 6,
   "metadata": {},
   "outputs": [],
   "source": [
    "ts = TimeSeries(key=api_key, output_format='pandas')"
   ]
  },
  {
   "cell_type": "code",
   "execution_count": 7,
   "metadata": {},
   "outputs": [],
   "source": [
    "data, meta_data = ts.get_intraday(symbol='MSFT', interval = '1min', outputsize = 'full')"
   ]
  },
  {
   "cell_type": "code",
   "execution_count": 8,
   "metadata": {},
   "outputs": [
    {
     "name": "stdout",
     "output_type": "stream",
     "text": [
      "                     1. open  2. high  3. low  4. close  5. volume\n",
      "date                                                              \n",
      "2020-09-21 20:00:00   204.20   204.20  204.20    204.20      915.0\n",
      "2020-09-21 19:59:00   204.33   204.33  204.20    204.20      990.0\n",
      "2020-09-21 19:58:00   204.00   204.15  204.00    204.01     4274.0\n",
      "2020-09-21 19:57:00   203.69   204.00  203.69    204.00     5938.0\n",
      "2020-09-21 19:56:00   203.69   203.88  203.69    203.84     2339.0\n",
      "...                      ...      ...     ...       ...        ...\n",
      "2020-09-08 04:06:00   213.00   213.00  212.60    212.60     2080.0\n",
      "2020-09-08 04:04:00   213.00   213.00  213.00    213.00      551.0\n",
      "2020-09-08 04:03:00   213.00   213.00  213.00    213.00      614.0\n",
      "2020-09-08 04:02:00   213.34   213.34  213.33    213.33      400.0\n",
      "2020-09-08 04:01:00   214.00   214.00  213.34    213.34      749.0\n",
      "\n",
      "[7340 rows x 5 columns]\n"
     ]
    }
   ],
   "source": [
    "print(data)"
   ]
  },
  {
   "cell_type": "code",
   "execution_count": 9,
   "metadata": {},
   "outputs": [],
   "source": [
    "i = 1"
   ]
  },
  {
   "cell_type": "code",
   "execution_count": 10,
   "metadata": {},
   "outputs": [],
   "source": [
    "#while i==1:"
   ]
  },
  {
   "cell_type": "code",
   "execution_count": 11,
   "metadata": {},
   "outputs": [],
   "source": [
    "#data.to_excel(\"output.xlsx\")"
   ]
  },
  {
   "cell_type": "code",
   "execution_count": 12,
   "metadata": {},
   "outputs": [],
   "source": [
    "#time.sleep(60)"
   ]
  },
  {
   "cell_type": "code",
   "execution_count": 13,
   "metadata": {},
   "outputs": [],
   "source": [
    "#data, meta_data = ts.get_intraday(symbol='MSFT', interval = '1min', outputsize = 'full')"
   ]
  },
  {
   "cell_type": "code",
   "execution_count": 14,
   "metadata": {},
   "outputs": [],
   "source": [
    "close_data = data['4. close']"
   ]
  },
  {
   "cell_type": "code",
   "execution_count": 15,
   "metadata": {},
   "outputs": [],
   "source": [
    "percentage_change = close_data.pct_change()"
   ]
  },
  {
   "cell_type": "code",
   "execution_count": 16,
   "metadata": {},
   "outputs": [
    {
     "name": "stdout",
     "output_type": "stream",
     "text": [
      "date\n",
      "2020-09-21 20:00:00         NaN\n",
      "2020-09-21 19:59:00    0.000000\n",
      "2020-09-21 19:58:00   -0.000930\n",
      "2020-09-21 19:57:00   -0.000049\n",
      "2020-09-21 19:56:00   -0.000784\n",
      "                         ...   \n",
      "2020-09-08 04:06:00    0.000235\n",
      "2020-09-08 04:04:00    0.001881\n",
      "2020-09-08 04:03:00    0.000000\n",
      "2020-09-08 04:02:00    0.001549\n",
      "2020-09-08 04:01:00    0.000047\n",
      "Name: 4. close, Length: 7340, dtype: float64\n"
     ]
    }
   ],
   "source": [
    "print(percentage_change)"
   ]
  },
  {
   "cell_type": "code",
   "execution_count": 17,
   "metadata": {},
   "outputs": [],
   "source": [
    "last_change = percentage_change[-1]"
   ]
  },
  {
   "cell_type": "code",
   "execution_count": 18,
   "metadata": {},
   "outputs": [
    {
     "data": {
      "text/plain": [
       "'if abs (last_change) > 0.0004:'"
      ]
     },
     "execution_count": 18,
     "metadata": {},
     "output_type": "execute_result"
    }
   ],
   "source": [
    "\"if abs (last_change) > 0.0004:\""
   ]
  },
  {
   "cell_type": "code",
   "execution_count": 19,
   "metadata": {},
   "outputs": [
    {
     "name": "stdout",
     "output_type": "stream",
     "text": [
      "MSFT Alert:4.687573243322696e-05\n"
     ]
    }
   ],
   "source": [
    " print(\"MSFT Alert:\" + str(last_change))"
   ]
  }
 ],
 "metadata": {
  "kernelspec": {
   "display_name": "Python 3",
   "language": "python",
   "name": "python3"
  },
  "language_info": {
   "codemirror_mode": {
    "name": "ipython",
    "version": 3
   },
   "file_extension": ".py",
   "mimetype": "text/x-python",
   "name": "python",
   "nbconvert_exporter": "python",
   "pygments_lexer": "ipython3",
   "version": "3.8.3"
  }
 },
 "nbformat": 4,
 "nbformat_minor": 4
}
